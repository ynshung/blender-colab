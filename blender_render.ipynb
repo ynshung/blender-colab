{
 "cells": [
  {
   "attachments": {},
   "cell_type": "markdown",
   "metadata": {
    "id": "6EYxUEsyGlkw"
   },
   "source": [
    "# Setup\n",
    "**Make sure to read the instructions carefully!**\n",
    "\n",
    "If you have other resources used in the Blender project and chose to *make all paths relative*, pack all of them into a zip archive. Alternatively, you can *pack all external file*.\n",
    "\n",
    "* `blender_version` : Version of blender used to render the scene.\n",
    "* `blend_file_path` : Path to the blend file after unpacking the zip archive. If blend file is used, this is automatically ignored.\n",
    "___\n",
    "* `upload_type` : Select the type of upload method. `gdrive_relative` pulls everything from the folder specified.\n",
    "* `drive_path` : Path to your blend/zip file relative to the root of your Google Drive if `google_drive` is selected. Must  state the file and its extension (.zip/.blend) **unless** `gdrive_relative` is selected.\n",
    "* `url_blend` : Specify the URL to the blend/zip file if `url` is selected.\n",
    "___\n",
    "* `animation` : Specify whether animation or still image is rendered. If **still image** is used, put the frame number in `start_frame`.\n",
    "* `start_frame, end_frame` : Specify the start and end frame for animation. You may put same value such as zero for both input to set the default frame in the blend file.\n",
    "___\n",
    "* `download_type` : Select the type of download method. `gdrive_direct` enables the frames to be outputted directly to Google Drive (zipping will be disabled).\n",
    "* `output_name` : Name of the output frames, **do NOT include .blend!** (## for frame number)\n",
    "* `zip_files` : Archive multiple animation frames automatically into a zip file.\n",
    "* `drive_output_path` : Path to your frames/zip file in Google Drive.\n",
    "___\n",
    "* `gpu_enabled, cpu_enabled` : Toggle GPU and CPU for rendering. CPU might give a slight boost in rendering time but may varies depend on the project.\n",
    "* `optix_enable` : Enable OptiX which may boost performance, may be incompatible depending on the version of blender, project and GPU allocated\n",
    "\n",
    "After you are done, go to Runtime > Run All (Ctrl + F9) and upload your files or have Google Drive authorised below. See the [GitHub repo](https://github.com/syn73/blender-colab) for more information."
   ]
  },
  {
   "cell_type": "code",
   "execution_count": null,
   "metadata": {
    "id": "8dFNjYGTgNjR"
   },
   "outputs": [],
   "source": [
    "blender_version = '4.2.3' #@param ['2.79b', '2.83.20', '2.93.18', '3.3.21', '3.6.17', '4.2.3', '4.3.0', '4.3.1'] {allow-input: false}\n",
    "blend_file_path = 'path/to/file.blend' #@param {type: 'string'}\n",
    "#@markdown ---\n",
    "upload_type = 'url' #@param ['direct', 'google_drive', 'url', 'gdrive_relative'] {allow-input: false}\n",
    "drive_path = 'path/to/blend.zip' #@param {type: 'string'}\n",
    "url_blend = '' #@param {type: 'string'}\n",
    "#@markdown ---\n",
    "animation = False #@param {type: 'boolean'}\n",
    "start_frame =  1#@param {type: 'integer'}\n",
    "end_frame =  250#@param {type: 'integer'}\n",
    "#@markdown ---\n",
    "download_type = 'gdrive_direct' #@param ['direct', 'google_drive', 'gdrive_direct'] {allow-input: false}\n",
    "output_name = 'blender-##' #@param {type: 'string'}\n",
    "zip_files = True #@param {type: 'boolean'}\n",
    "drive_output_path = 'blender/output' #@param {type: 'string'}\n",
    "#@markdown ---\n",
    "gpu_enabled = True #@param {type:\"boolean\"}\n",
    "optix_enabled = False #@param {type:\"boolean\"}\n",
    "cpu_enabled = False #@param {type:\"boolean\"}"
   ]
  },
  {
   "cell_type": "code",
   "execution_count": null,
   "metadata": {
    "id": "XQ0cynSzSYDd"
   },
   "outputs": [],
   "source": [
    "%cd /content\n",
    "\n",
    "gpu = !nvidia-smi --query-gpu=gpu_name --format=csv,noheader\n",
    "print(\"Current GPU: \" + gpu[0])\n",
    "\n",
    "if gpu[0] == \"Tesla K80\" and optix_enabled:\n",
    "  print(\"OptiX disabled because of unsupported GPU\")\n",
    "  optix_enabled = False"
   ]
  },
  {
   "cell_type": "code",
   "execution_count": null,
   "metadata": {
    "id": "pQboAtzI0Zc8"
   },
   "outputs": [],
   "source": [
    "import os\n",
    "\n",
    "os.environ[\"LD_PRELOAD\"] = \"\"\n",
    "\n",
    "!apt remove libtcmalloc-minimal4\n",
    "!apt install libtcmalloc-minimal4\n",
    "\n",
    "os.environ[\"LD_PRELOAD\"] = \"/usr/lib/x86_64-linux-gnu/libtcmalloc_minimal.so.4.5.9\""
   ]
  },
  {
   "cell_type": "code",
   "execution_count": null,
   "metadata": {
    "id": "QRzNmiHN8Xr0"
   },
   "outputs": [],
   "source": [
    "import shutil\n",
    "from google.colab import files, drive\n",
    "uploaded_filename = \"\"\n",
    "\n",
    "if upload_type == 'google_drive' or upload_type == 'gdrive_relative' or download_type == 'google_drive' or download_type == 'gdrive_direct':\n",
    "    drive.mount('/drive')\n",
    "\n",
    "if upload_type == 'direct':\n",
    "    uploaded = files.upload()\n",
    "    for fn in uploaded.keys():\n",
    "        uploaded_filename = fn\n",
    "elif upload_type == 'url':\n",
    "    !wget -nc $url_blend\n",
    "    uploaded_filename = os.path.basename(url_blend)\n",
    "elif upload_type == 'google_drive':\n",
    "    shutil.copy('/drive/My Drive/' + drive_path, '.')\n",
    "    uploaded_filename = os.path.basename(drive_path)"
   ]
  },
  {
   "cell_type": "code",
   "execution_count": 7,
   "metadata": {
    "id": "KowqWtLzgSLw"
   },
   "outputs": [],
   "source": [
    "!rm -r render\n",
    "!mkdir render\n",
    "\n",
    "if upload_type == 'gdrive_relative':\n",
    "    if not drive_path.endswith('/'):\n",
    "        drive_path += '/'\n",
    "    !cp -r '/drive/My Drive/{drive_path}.' 'render/'\n",
    "elif uploaded_filename.lower().endswith('.zip'):\n",
    "    !unzip -o $uploaded_filename -d 'render/'\n",
    "elif uploaded_filename.lower().endswith('.blend'):\n",
    "    shutil.copy(uploaded_filename, 'render/')\n",
    "    blend_file_path = uploaded_filename\n",
    "else:\n",
    "    raise SystemExit(\"Invalid file extension, only .blend and .zip can be uploaded.\")"
   ]
  },
  {
   "cell_type": "code",
   "execution_count": null,
   "metadata": {
    "id": "GPJ9fmoB6PWM"
   },
   "outputs": [],
   "source": [
    "# To add your own new version, go to https://ftp.nluug.nl/pub/graphics/blender/release\n",
    "# and copy the URL of the desired version linux-x64 tar archive\n",
    "# Then, edit or add the version below and also at the version selection at the top\n",
    "blender_url_dict = {'2.79b'   : \"https://ftp.nluug.nl/pub/graphics/blender/release/Blender2.79/blender-2.79b-linux-glibc219-x86_64.tar.bz2\",\n",
    "                    '2.83.20' : \"https://ftp.nluug.nl/pub/graphics/blender/release/Blender2.83/blender-2.83.20-linux-x64.tar.xz\",\n",
    "                    '2.93.18' : \"https://ftp.nluug.nl/pub/graphics/blender/release/Blender2.93/blender-2.93.18-linux-x64.tar.xz\",\n",
    "                    '3.3.21'  : \"https://ftp.nluug.nl/pub/graphics/blender/release/Blender3.3/blender-3.3.21-linux-x64.tar.xz\",\n",
    "                    '3.6.17'  : \"https://ftp.nluug.nl/pub/graphics/blender/release/Blender3.6/blender-3.6.17-linux-x64.tar.xz\",\n",
    "                    '4.2.3'   : \"https://ftp.nluug.nl/pub/graphics/blender/release/Blender4.2/blender-4.2.3-linux-x64.tar.xz\"}\n",
    "                    '4.3.0'   : \"https://ftp.nluug.nl/pub/graphics/blender/release/Blender4.3/blender-4.3.0-linux-x64.tar.xz\"}\n",
    "                    '4.3.1'   : \"https://ftp.nluug.nl/pub/graphics/blender/release/Blender4.3/blender-4.3.1-linux-x64.tar.xz\"}\n",
    "\n",
    "blender_url = blender_url_dict[blender_version]\n",
    "base_url = os.path.basename(blender_url)\n",
    "\n",
    "!mkdir $blender_version\n",
    "!wget -nc $blender_url\n",
    "!tar -xkf $base_url -C ./$blender_version --strip-components=1"
   ]
  },
  {
   "cell_type": "code",
   "execution_count": null,
   "metadata": {
    "id": "6elYiQrvkUAe"
   },
   "outputs": [],
   "source": [
    "# Enable GPU rendering (or add custom properties here)\n",
    "data = \"import re\\n\"+\\\n",
    "    \"import bpy\\n\"+\\\n",
    "    \"scene = bpy.context.scene\\n\"+\\\n",
    "    \"scene.cycles.device = 'GPU'\\n\"+\\\n",
    "    \"prefs = bpy.context.preferences\\n\"+\\\n",
    "    \"prefs.addons['cycles'].preferences.get_devices()\\n\"+\\\n",
    "    \"cprefs = prefs.addons['cycles'].preferences\\n\"+\\\n",
    "    \"print(cprefs)\\n\"+\\\n",
    "    \"for compute_device_type in ('CUDA', 'OPENCL', 'NONE'):\\n\"+\\\n",
    "    \"    try:\\n\"+\\\n",
    "    \"        cprefs.compute_device_type = compute_device_type\\n\"+\\\n",
    "    \"        print('Device found:',compute_device_type)\\n\"+\\\n",
    "    \"        break\\n\"+\\\n",
    "    \"    except TypeError:\\n\"+\\\n",
    "    \"        pass\\n\"+\\\n",
    "    \"for device in cprefs.devices:\\n\"+\\\n",
    "    \"    if not re.match('intel', device.name, re.I):\\n\"+\\\n",
    "    \"        print('Activating',device)\\n\"+\\\n",
    "    \"        device.use = \"+str(gpu_enabled)+\"\\n\"+\\\n",
    "    \"    else:\\n\"+\\\n",
    "    \"        device.use = \"+str(cpu_enabled)+\"\\n\"\n",
    "with open('setgpu.py', 'w') as f:\n",
    "    f.write(data)\n",
    "\n",
    "renderer = \"CUDA\"\n",
    "if optix_enabled:\n",
    "    print(\"Note: You're currently using OptiX renderer. If an error occurred, the current GPU (example: Tesla K80) is not supported and you need to switch back to Cycles.\")\n",
    "    renderer = \"OPTIX\""
   ]
  },
  {
   "cell_type": "code",
   "execution_count": null,
   "metadata": {
    "id": "Fpk2w3yM8XqQ"
   },
   "outputs": [],
   "source": [
    "%cd /content\n",
    "\n",
    "!rm -r output\n",
    "!mkdir output\n",
    "\n",
    "if not drive_output_path.endswith('/'):\n",
    "    drive_output_path += '/'\n",
    "\n",
    "if download_type != 'gdrive_direct':\n",
    "    output_path = '/content/output/' + output_name\n",
    "else:\n",
    "    output_path = '/drive/My Drive/' + drive_output_path + output_name\n",
    "\n",
    "%cd /content/$blender_version\n",
    "\n",
    "if animation:\n",
    "    if start_frame == end_frame:\n",
    "        !./$blender_version/blender -b '/content/render/{blend_file_path}' -P setgpu.py -E CYCLES -o '{output_path}' -noaudio -a -- --cycles-device \"{renderer}\"\n",
    "    else:\n",
    "        !./$blender_version/blender -b '/content/render/{blend_file_path}' -P setgpu.py -E CYCLES -o '{output_path}' -noaudio -s $start_frame -e $end_frame -a -- --cycles-device \"{renderer}\"\n",
    "else:\n",
    "    !./$blender_version/blender -b '/content/render/{blend_file_path}' -P setgpu.py -E CYCLES -o '{output_path}' -noaudio -f $start_frame -- --cycles-device \"{renderer}\""
   ]
  },
  {
   "cell_type": "code",
   "execution_count": null,
   "metadata": {
    "id": "IjN_CFwEIB6f"
   },
   "outputs": [],
   "source": [
    "%cd /content\n",
    "\n",
    "path, dirs, files_folder = next(os.walk(\"output\"))\n",
    "output_folder_name = output_name.replace('#', '') + 'render'\n",
    "\n",
    "if download_type == 'gdrive_direct':\n",
    "    pass\n",
    "elif len(files_folder) == 1:\n",
    "    render_img = 'output/' + files_folder[0]\n",
    "    if download_type == 'direct':\n",
    "        files.download('output/' + files_folder[0])\n",
    "    else:\n",
    "        shutil.copy('/content/' + render_img, '/drive/My Drive/' + drive_output_path)\n",
    "elif len(files_folder) > 1:\n",
    "    if zip_files:\n",
    "        shutil.make_archive(output_folder_name, 'zip', 'output')\n",
    "    if download_type == 'direct':\n",
    "        files.download(output_folder_name + '.zip')\n",
    "    else:\n",
    "        shutil.copy('/content/' + output_folder_name + \".zip\", '/drive/My Drive/' + drive_output_path)\n",
    "elif download_type == 'direct':\n",
    "    for f in files_folder:\n",
    "        files.download('output/{}'.format(f))\n",
    "    # Drive, no zip\n",
    "    else:\n",
    "        for f in files_folder:\n",
    "          shutil.copy(\"/content/output/\" + f, '/drive/My Drive/' + drive_output_path + f)\n",
    "else:\n",
    "    raise SystemExit(\"No frames are rendered.\")"
   ]
  },
  {
   "attachments": {},
   "cell_type": "markdown",
   "metadata": {
    "id": "IeNhVz4Uds_7"
   },
   "source": [
    "## Disclaimer\n",
    "Google Colab is targeted to researchers and students to run AI/ML tasks, data analysis and education, not rendering 3D scenes. Because the computing power provided are free, the usage limits, idle timeouts and speed of the rendering may varies time by time. [Colab Pro and Colab Pro+](https://colab.research.google.com/signup) are available for those who wanted to have more powerful GPU and longer runtimes for rendering. See the [FAQ](https://research.google.com/colaboratory/faq.html) for more info. In some cases, it might be faster to use an online Blender renderfarm.\n",
    "\n",
    "## License\n",
    "```\n",
    "MIT License\n",
    "\n",
    "Copyright (c) 2020-2022 ynshung\n",
    "\n",
    "Permission is hereby granted, free of charge, to any person obtaining a copy\n",
    "of this software and associated documentation files (the \"Software\"), to deal\n",
    "in the Software without restriction, including without limitation the rights\n",
    "to use, copy, modify, merge, publish, distribute, sublicense, and/or sell\n",
    "copies of the Software, and to permit persons to whom the Software is\n",
    "furnished to do so, subject to the following conditions:\n",
    "\n",
    "The above copyright notice and this permission notice shall be included in all\n",
    "copies or substantial portions of the Software.\n",
    "\n",
    "THE SOFTWARE IS PROVIDED \"AS IS\", WITHOUT WARRANTY OF ANY KIND, EXPRESS OR\n",
    "IMPLIED, INCLUDING BUT NOT LIMITED TO THE WARRANTIES OF MERCHANTABILITY,\n",
    "FITNESS FOR A PARTICULAR PURPOSE AND NONINFRINGEMENT. IN NO EVENT SHALL THE\n",
    "AUTHORS OR COPYRIGHT HOLDERS BE LIABLE FOR ANY CLAIM, DAMAGES OR OTHER\n",
    "LIABILITY, WHETHER IN AN ACTION OF CONTRACT, TORT OR OTHERWISE, ARISING FROM,\n",
    "OUT OF OR IN CONNECTION WITH THE SOFTWARE OR THE USE OR OTHER DEALINGS IN THE\n",
    "SOFTWARE.\n",
    "```"
   ]
  }
 ],
 "metadata": {
  "accelerator": "GPU",
  "colab": {
   "collapsed_sections": [],
   "name": "blender-render.ipynb",
   "provenance": [],
   "toc_visible": true
  },
  "kernelspec": {
   "display_name": "Python 3",
   "language": "python",
   "name": "python3"
  },
  "language_info": {
   "codemirror_mode": {
    "name": "ipython",
    "version": 3
   },
   "file_extension": ".py",
   "mimetype": "text/x-python",
   "name": "python",
   "nbconvert_exporter": "python",
   "pygments_lexer": "ipython3",
   "version": "3.7.4"
  }
 },
 "nbformat": 4,
 "nbformat_minor": 0
}
